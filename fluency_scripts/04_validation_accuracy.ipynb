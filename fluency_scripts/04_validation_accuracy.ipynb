{
 "cells": [
  {
   "cell_type": "markdown",
   "metadata": {},
   "source": [
    "# Validate Accuracy Scores"
   ]
  },
  {
   "cell_type": "code",
   "execution_count": 40,
   "metadata": {},
   "outputs": [],
   "source": [
    "import os\n",
    "import pandas as pd\n",
    "from sklearn.metrics import root_mean_squared_error, r2_score\n",
    "from scipy import stats\n",
    "import seaborn as sns\n",
    "import numpy as np\n",
    "import matplotlib.pyplot as plt"
   ]
  },
  {
   "cell_type": "code",
   "execution_count": 41,
   "metadata": {},
   "outputs": [
    {
     "name": "stdout",
     "output_type": "stream",
     "text": [
      "JASMIN-NL\n",
      "accVars:  ['nr_correct', 'nr_incorrect', 'nr_prompts', 'dur_sec', 'dur_min', 'wcpm', 'perc_cor', 'cor', 'sub', 'del', 'ins', 'sub_perc', 'del_perc', 'ins_perc', 'cor_perc', 'cor_prompt_perc']\n",
      "Length combiDF: 142\n",
      "JASMIN-VL\n",
      "accVars:  ['nr_correct', 'nr_incorrect', 'nr_prompts', 'dur_sec', 'dur_min', 'wcpm', 'perc_cor', 'cor', 'del', 'sub', 'ins', 'sub_perc', 'del_perc', 'ins_perc', 'cor_perc', 'cor_prompt_perc']\n",
      "Length combiDF: 84\n",
      "SERDA-NL\n",
      "accVars:  ['nr_correct', 'nr_incorrect', 'nr_prompts', 'dur_sec', 'dur_min', 'wcpm', 'perc_cor', 'cor', 'sub', 'del', 'ins', 'sub_perc', 'del_perc', 'ins_perc', 'cor_perc', 'cor_prompt_perc']\n",
      "Length combiDF: 18\n"
     ]
    }
   ],
   "source": [
    "inputDict = {\n",
    "    'JASMIN-NL':'/vol/tensusers2/wharmsen/JASMIN-fluency-features/comp-q-read_nl_age7-11_nat',\n",
    "    'JASMIN-VL':'/vol/tensusers2/wharmsen/JASMIN-fluency-features/comp-q-read_vl_age7-11_nat',\n",
    "    'SERDA-NL':'/vol/tensusers2/wharmsen/SERDA-fluency-features/comp1'\n",
    "}\n",
    "\n",
    "corrDF_list = []\n",
    "combiDF_list = []\n",
    "for corpus, basepath in inputDict.items():\n",
    "    print(corpus)\n",
    "\n",
    "    manFile = os.path.join(basepath,'06_manual_fluency_features/json-fluency-features/accuracy.tsv')\n",
    "    manDF = pd.read_csv(manFile, sep = '\\t', index_col=0).sort_index()\n",
    "\n",
    "    asrSystem = 'whispert'\n",
    "    autoFile = os.path.join(basepath,'05_automatic_fluency_features/' + asrSystem + '/accuracy.tsv')\n",
    "    autoDF = pd.read_csv(autoFile, sep = '\\t', index_col=0).sort_index()\n",
    "    autoDF.columns = [asrSystem + '_' + x for x in autoDF.columns]\n",
    "\n",
    "    accVars = list(manDF.columns)\n",
    "    accVars.remove('other') if 'other' in list(manDF.columns) else list(manDF.columns)\n",
    "    print('accVars: ', accVars)\n",
    "\n",
    "    combiDF = pd.concat([autoDF, manDF], axis=1)\n",
    "    # combiDF = combiDF.dropna()\n",
    "    print('Length combiDF:', len(combiDF))\n",
    "    combiDF_list.append(combiDF)\n",
    "\n",
    "    outputList = []\n",
    "    for accVar in accVars:\n",
    "        # Select only the automatic and manual variable\n",
    "        autoVar = asrSystem + '_' + accVar\n",
    "        manVar = accVar\n",
    "        varDF = combiDF.loc[:, [autoVar, manVar]].replace(0, np.nan, inplace=False).dropna()\n",
    "        length = len(varDF)\n",
    "        corr = stats.pearsonr(varDF[asrSystem + '_' + accVar], varDF[accVar])[0]\n",
    "        outputList.append([accVar, length, corr])\n",
    "\n",
    "    corrDF = pd.DataFrame(outputList, columns = ['var', 'N', corpus]).set_index('var')\n",
    "    corrDF_list.append(corrDF)\n",
    "\n",
    "outputCorrDF = pd.concat(corrDF_list, axis=1)"
   ]
  },
  {
   "cell_type": "code",
   "execution_count": 42,
   "metadata": {},
   "outputs": [
    {
     "data": {
      "text/html": [
       "<div>\n",
       "<style scoped>\n",
       "    .dataframe tbody tr th:only-of-type {\n",
       "        vertical-align: middle;\n",
       "    }\n",
       "\n",
       "    .dataframe tbody tr th {\n",
       "        vertical-align: top;\n",
       "    }\n",
       "\n",
       "    .dataframe thead th {\n",
       "        text-align: right;\n",
       "    }\n",
       "</style>\n",
       "<table border=\"1\" class=\"dataframe\">\n",
       "  <thead>\n",
       "    <tr style=\"text-align: right;\">\n",
       "      <th></th>\n",
       "      <th>N</th>\n",
       "      <th>JASMIN-NL</th>\n",
       "      <th>N</th>\n",
       "      <th>JASMIN-VL</th>\n",
       "      <th>N</th>\n",
       "      <th>SERDA-NL</th>\n",
       "    </tr>\n",
       "    <tr>\n",
       "      <th>var</th>\n",
       "      <th></th>\n",
       "      <th></th>\n",
       "      <th></th>\n",
       "      <th></th>\n",
       "      <th></th>\n",
       "      <th></th>\n",
       "    </tr>\n",
       "  </thead>\n",
       "  <tbody>\n",
       "    <tr>\n",
       "      <th>nr_correct</th>\n",
       "      <td>142</td>\n",
       "      <td>0.997140</td>\n",
       "      <td>83</td>\n",
       "      <td>0.999376</td>\n",
       "      <td>18</td>\n",
       "      <td>0.657643</td>\n",
       "    </tr>\n",
       "    <tr>\n",
       "      <th>nr_incorrect</th>\n",
       "      <td>140</td>\n",
       "      <td>0.924435</td>\n",
       "      <td>81</td>\n",
       "      <td>0.971016</td>\n",
       "      <td>18</td>\n",
       "      <td>0.677341</td>\n",
       "    </tr>\n",
       "    <tr>\n",
       "      <th>nr_prompts</th>\n",
       "      <td>142</td>\n",
       "      <td>1.000000</td>\n",
       "      <td>84</td>\n",
       "      <td>1.000000</td>\n",
       "      <td>18</td>\n",
       "      <td>1.000000</td>\n",
       "    </tr>\n",
       "    <tr>\n",
       "      <th>dur_sec</th>\n",
       "      <td>142</td>\n",
       "      <td>0.999931</td>\n",
       "      <td>84</td>\n",
       "      <td>0.999856</td>\n",
       "      <td>18</td>\n",
       "      <td>0.832818</td>\n",
       "    </tr>\n",
       "    <tr>\n",
       "      <th>dur_min</th>\n",
       "      <td>142</td>\n",
       "      <td>0.999931</td>\n",
       "      <td>84</td>\n",
       "      <td>0.999856</td>\n",
       "      <td>18</td>\n",
       "      <td>0.832845</td>\n",
       "    </tr>\n",
       "    <tr>\n",
       "      <th>wcpm</th>\n",
       "      <td>142</td>\n",
       "      <td>0.989009</td>\n",
       "      <td>83</td>\n",
       "      <td>0.996692</td>\n",
       "      <td>18</td>\n",
       "      <td>0.946681</td>\n",
       "    </tr>\n",
       "    <tr>\n",
       "      <th>perc_cor</th>\n",
       "      <td>142</td>\n",
       "      <td>0.868023</td>\n",
       "      <td>83</td>\n",
       "      <td>0.988118</td>\n",
       "      <td>18</td>\n",
       "      <td>0.677448</td>\n",
       "    </tr>\n",
       "    <tr>\n",
       "      <th>cor</th>\n",
       "      <td>142</td>\n",
       "      <td>0.996672</td>\n",
       "      <td>83</td>\n",
       "      <td>0.999187</td>\n",
       "      <td>18</td>\n",
       "      <td>0.654513</td>\n",
       "    </tr>\n",
       "    <tr>\n",
       "      <th>sub</th>\n",
       "      <td>140</td>\n",
       "      <td>0.780150</td>\n",
       "      <td>82</td>\n",
       "      <td>0.834641</td>\n",
       "      <td>18</td>\n",
       "      <td>0.747683</td>\n",
       "    </tr>\n",
       "    <tr>\n",
       "      <th>del</th>\n",
       "      <td>103</td>\n",
       "      <td>0.991259</td>\n",
       "      <td>53</td>\n",
       "      <td>0.969158</td>\n",
       "      <td>15</td>\n",
       "      <td>0.441348</td>\n",
       "    </tr>\n",
       "    <tr>\n",
       "      <th>ins</th>\n",
       "      <td>134</td>\n",
       "      <td>0.388967</td>\n",
       "      <td>68</td>\n",
       "      <td>0.719075</td>\n",
       "      <td>16</td>\n",
       "      <td>0.004158</td>\n",
       "    </tr>\n",
       "    <tr>\n",
       "      <th>sub_perc</th>\n",
       "      <td>140</td>\n",
       "      <td>0.533904</td>\n",
       "      <td>82</td>\n",
       "      <td>0.589161</td>\n",
       "      <td>18</td>\n",
       "      <td>0.733674</td>\n",
       "    </tr>\n",
       "    <tr>\n",
       "      <th>del_perc</th>\n",
       "      <td>103</td>\n",
       "      <td>0.984634</td>\n",
       "      <td>53</td>\n",
       "      <td>0.791582</td>\n",
       "      <td>15</td>\n",
       "      <td>0.447112</td>\n",
       "    </tr>\n",
       "    <tr>\n",
       "      <th>ins_perc</th>\n",
       "      <td>134</td>\n",
       "      <td>0.215607</td>\n",
       "      <td>68</td>\n",
       "      <td>0.739894</td>\n",
       "      <td>16</td>\n",
       "      <td>0.022663</td>\n",
       "    </tr>\n",
       "    <tr>\n",
       "      <th>cor_perc</th>\n",
       "      <td>142</td>\n",
       "      <td>0.851596</td>\n",
       "      <td>83</td>\n",
       "      <td>0.986687</td>\n",
       "      <td>18</td>\n",
       "      <td>0.672630</td>\n",
       "    </tr>\n",
       "    <tr>\n",
       "      <th>cor_prompt_perc</th>\n",
       "      <td>142</td>\n",
       "      <td>0.868082</td>\n",
       "      <td>83</td>\n",
       "      <td>0.988155</td>\n",
       "      <td>18</td>\n",
       "      <td>0.677207</td>\n",
       "    </tr>\n",
       "  </tbody>\n",
       "</table>\n",
       "</div>"
      ],
      "text/plain": [
       "                   N  JASMIN-NL   N  JASMIN-VL   N  SERDA-NL\n",
       "var                                                         \n",
       "nr_correct       142   0.997140  83   0.999376  18  0.657643\n",
       "nr_incorrect     140   0.924435  81   0.971016  18  0.677341\n",
       "nr_prompts       142   1.000000  84   1.000000  18  1.000000\n",
       "dur_sec          142   0.999931  84   0.999856  18  0.832818\n",
       "dur_min          142   0.999931  84   0.999856  18  0.832845\n",
       "wcpm             142   0.989009  83   0.996692  18  0.946681\n",
       "perc_cor         142   0.868023  83   0.988118  18  0.677448\n",
       "cor              142   0.996672  83   0.999187  18  0.654513\n",
       "sub              140   0.780150  82   0.834641  18  0.747683\n",
       "del              103   0.991259  53   0.969158  15  0.441348\n",
       "ins              134   0.388967  68   0.719075  16  0.004158\n",
       "sub_perc         140   0.533904  82   0.589161  18  0.733674\n",
       "del_perc         103   0.984634  53   0.791582  15  0.447112\n",
       "ins_perc         134   0.215607  68   0.739894  16  0.022663\n",
       "cor_perc         142   0.851596  83   0.986687  18  0.672630\n",
       "cor_prompt_perc  142   0.868082  83   0.988155  18  0.677207"
      ]
     },
     "execution_count": 42,
     "metadata": {},
     "output_type": "execute_result"
    }
   ],
   "source": [
    "outputCorrDF"
   ]
  },
  {
   "cell_type": "markdown",
   "metadata": {},
   "source": [
    "Observaties:\n",
    "- JASMIN-NL: Lage correlaties voor ins_perc en sub_perc\n",
    "- JASMIN-VL: Lage correlaties voor sub_perc\n",
    "- SERDA-NL: Lage correlaties voor veel variabelen vooral vergeleken met JASMIN. del_perc en ins_perc zijn het laagst."
   ]
  },
  {
   "cell_type": "code",
   "execution_count": 52,
   "metadata": {},
   "outputs": [
    {
     "data": {
      "image/png": "[encoded data removed]",
      "text/plain": [
       "<Figure size 640x480 with 1 Axes>"
      ]
     },
     "metadata": {},
     "output_type": "display_data"
    }
   ],
   "source": [
    "serda_combiDF = combiDF_list[2]\n",
    "sns.scatterplot(serda_combiDF, x = 'del_perc', y='whispert_del_perc')\n",
    "plt.xticks(np.arange(0,1.2,0.2))\n",
    "plt.yticks(np.arange(0,1.2,0.2))\n",
    "plt.show()"
   ]
  },
  {
   "cell_type": "code",
   "execution_count": 54,
   "metadata": {},
   "outputs": [
    {
     "data": {
      "image/png": "[encoded data removed]",
      "text/plain": [
       "<Figure size 640x480 with 1 Axes>"
      ]
     },
     "metadata": {},
     "output_type": "display_data"
    }
   ],
   "source": [
    "serda_combiDF = combiDF_list[2]\n",
    "sns.scatterplot(serda_combiDF, x = 'ins_perc', y='whispert_ins_perc')\n",
    "plt.xticks(np.arange(0,0.6,0.2))\n",
    "plt.yticks(np.arange(0,0.6,0.2))\n",
    "plt.show()"
   ]
  },
  {
   "cell_type": "markdown",
   "metadata": {},
   "source": [
    "Conclusie: whispert herkent deleties vrij goed, op één punt na."
   ]
  },
  {
   "cell_type": "code",
   "execution_count": 55,
   "metadata": {},
   "outputs": [
    {
     "data": {
      "text/plain": [
       "'\\\\begin{table}\\n\\\\caption{validation}\\n\\\\begin{tabular}{lrrr}\\n\\\\toprule\\n & JASMIN-NL & JASMIN-VL & SERDA-NL \\\\\\\\\\nvar &  &  &  \\\\\\\\\\n\\\\midrule\\nnr-correct & 1.00 & 1.00 & 0.66 \\\\\\\\\\nnr-incorrect & 0.92 & 0.97 & 0.68 \\\\\\\\\\nnr-prompts & 1.00 & 1.00 & 1.00 \\\\\\\\\\ndur-sec & 1.00 & 1.00 & 0.83 \\\\\\\\\\ndur-min & 1.00 & 1.00 & 0.83 \\\\\\\\\\nwcpm & 0.99 & 1.00 & 0.95 \\\\\\\\\\nperc-cor & 0.87 & 0.99 & 0.68 \\\\\\\\\\ncor & 1.00 & 1.00 & 0.65 \\\\\\\\\\nsub & 0.78 & 0.83 & 0.75 \\\\\\\\\\ndel & 0.99 & 0.97 & 0.44 \\\\\\\\\\nins & 0.39 & 0.72 & 0.00 \\\\\\\\\\nsub-perc & 0.53 & 0.59 & 0.73 \\\\\\\\\\ndel-perc & 0.98 & 0.79 & 0.45 \\\\\\\\\\nins-perc & 0.22 & 0.74 & 0.02 \\\\\\\\\\ncor-perc & 0.85 & 0.99 & 0.67 \\\\\\\\\\ncor-prompt-perc & 0.87 & 0.99 & 0.68 \\\\\\\\\\n\\\\bottomrule\\n\\\\end{tabular}\\n\\\\end{table}\\n'"
      ]
     },
     "execution_count": 55,
     "metadata": {},
     "output_type": "execute_result"
    }
   ],
   "source": [
    "def DF2Latex(outputDF, column_list, txt):\n",
    "    latex_table = outputDF.to_latex(index=True,\n",
    "                        columns = column_list,\n",
    "                        formatters={\"name\": str.upper},\n",
    "                        float_format=\"{:.2f}\".format,\n",
    "                        caption=txt)\n",
    "    \n",
    "    # with open(outputFile, 'w') as f:\n",
    "    #     f.write(latex_table.replace('_', '-'))\n",
    "    return latex_table.replace('_', '-')\n",
    "\n",
    "DF2Latex(outputCorrDF, ['auto_var', 'JASMIN-NL', 'JASMIN-VL', 'SERDA-NL'], 'validation')"
   ]
  },
  {
   "cell_type": "code",
   "execution_count": null,
   "metadata": {},
   "outputs": [],
   "source": []
  }
 ],
 "metadata": {
  "kernelspec": {
   "display_name": "virenv-wav2vec2",
   "language": "python",
   "name": "virenv-wav2vec2"
  },
  "language_info": {
   "codemirror_mode": {
    "name": "ipython",
    "version": 3
   },
   "file_extension": ".py",
   "mimetype": "text/x-python",
   "name": "python",
   "nbconvert_exporter": "python",
   "pygments_lexer": "ipython3",
   "version": "3.8.10"
  }
 },
 "nbformat": 4,
 "nbformat_minor": 2
}
