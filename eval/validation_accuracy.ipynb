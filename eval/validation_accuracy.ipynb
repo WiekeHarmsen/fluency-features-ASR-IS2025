{
 "cells": [
  {
   "cell_type": "markdown",
   "metadata": {},
   "source": [
    "# Validate Accuracy Scores"
   ]
  },
  {
   "cell_type": "code",
   "execution_count": 1,
   "metadata": {},
   "outputs": [
    {
     "ename": "ModuleNotFoundError",
     "evalue": "No module named 'seaborn'",
     "output_type": "error",
     "traceback": [
      "\u001b[0;31m---------------------------------------------------------------------------\u001b[0m",
      "\u001b[0;31mModuleNotFoundError\u001b[0m                       Traceback (most recent call last)",
      "Cell \u001b[0;32mIn[1], line 5\u001b[0m\n\u001b[1;32m      3\u001b[0m \u001b[38;5;28;01mfrom\u001b[39;00m \u001b[38;5;21;01msklearn\u001b[39;00m\u001b[38;5;21;01m.\u001b[39;00m\u001b[38;5;21;01mmetrics\u001b[39;00m \u001b[38;5;28;01mimport\u001b[39;00m root_mean_squared_error, r2_score\n\u001b[1;32m      4\u001b[0m \u001b[38;5;28;01mfrom\u001b[39;00m \u001b[38;5;21;01mscipy\u001b[39;00m \u001b[38;5;28;01mimport\u001b[39;00m stats\n\u001b[0;32m----> 5\u001b[0m \u001b[38;5;28;01mimport\u001b[39;00m \u001b[38;5;21;01mseaborn\u001b[39;00m \u001b[38;5;28;01mas\u001b[39;00m \u001b[38;5;21;01msns\u001b[39;00m\n\u001b[1;32m      6\u001b[0m \u001b[38;5;28;01mimport\u001b[39;00m \u001b[38;5;21;01mnumpy\u001b[39;00m \u001b[38;5;28;01mas\u001b[39;00m \u001b[38;5;21;01mnp\u001b[39;00m\n\u001b[1;32m      7\u001b[0m \u001b[38;5;28;01mimport\u001b[39;00m \u001b[38;5;21;01mmatplotlib\u001b[39;00m\u001b[38;5;21;01m.\u001b[39;00m\u001b[38;5;21;01mpyplot\u001b[39;00m \u001b[38;5;28;01mas\u001b[39;00m \u001b[38;5;21;01mplt\u001b[39;00m\n",
      "\u001b[0;31mModuleNotFoundError\u001b[0m: No module named 'seaborn'"
     ]
    }
   ],
   "source": [
    "import os\n",
    "import pandas as pd\n",
    "from sklearn.metrics import root_mean_squared_error, r2_score\n",
    "from scipy import stats\n",
    "import seaborn as sns\n",
    "import numpy as np\n",
    "import matplotlib.pyplot as plt"
   ]
  },
  {
   "cell_type": "code",
   "execution_count": null,
   "metadata": {},
   "outputs": [],
   "source": [
    "inputDict = {\n",
    "    'JASMIN-NL':'/vol/tensusers2/wharmsen/JASMIN-fluency-features/comp-q-read_nl_age7-11_nat',\n",
    "    'JASMIN-VL':'/vol/tensusers2/wharmsen/JASMIN-fluency-features/comp-q-read_vl_age7-11_nat',\n",
    "    'SERDA-NL':'/vol/tensusers2/wharmsen/SERDA-fluency-features/comp1'\n",
    "}\n",
    "\n",
    "corrDF_list = []\n",
    "combiDF_list = []\n",
    "for corpus, basepath in inputDict.items():\n",
    "    print(corpus)\n",
    "\n",
    "    manFile = os.path.join(basepath,'06_manual_fluency_features/json-fluency-features/accuracy.tsv')\n",
    "    manDF = pd.read_csv(manFile, sep = '\\t', index_col=0).sort_index()\n",
    "\n",
    "    asrSystem = 'whispert'\n",
    "    autoFile = os.path.join(basepath,'05_automatic_fluency_features/' + asrSystem + '/accuracy.tsv')\n",
    "    autoDF = pd.read_csv(autoFile, sep = '\\t', index_col=0).sort_index()\n",
    "    autoDF.columns = [asrSystem + '_' + x for x in autoDF.columns]\n",
    "\n",
    "    accVars = list(manDF.columns)\n",
    "    accVars.remove('other') if 'other' in list(manDF.columns) else list(manDF.columns)\n",
    "    print('accVars: ', accVars)\n",
    "\n",
    "    combiDF = pd.concat([autoDF, manDF], axis=1)\n",
    "    # combiDF = combiDF.dropna()\n",
    "    print('Length combiDF:', len(combiDF))\n",
    "    combiDF_list.append(combiDF)\n",
    "\n",
    "    outputList = []\n",
    "    for accVar in accVars:\n",
    "        # Select only the automatic and manual variable\n",
    "        autoVar = asrSystem + '_' + accVar\n",
    "        manVar = accVar\n",
    "        varDF = combiDF.loc[:, [autoVar, manVar]].replace(0, np.nan, inplace=False).dropna()\n",
    "        length = len(varDF)\n",
    "        corr = stats.pearsonr(varDF[asrSystem + '_' + accVar], varDF[accVar])[0]\n",
    "        outputList.append([accVar, length, corr])\n",
    "\n",
    "    corrDF = pd.DataFrame(outputList, columns = ['var', 'N', corpus]).set_index('var')\n",
    "    corrDF_list.append(corrDF)\n",
    "\n",
    "outputCorrDF = pd.concat(corrDF_list, axis=1)"
   ]
  },
  {
   "cell_type": "code",
   "execution_count": null,
   "metadata": {},
   "outputs": [],
   "source": [
    "outputCorrDF"
   ]
  },
  {
   "cell_type": "code",
   "execution_count": null,
   "metadata": {},
   "outputs": [],
   "source": []
  }
 ],
 "metadata": {
  "kernelspec": {
   "display_name": "virenv-whisper",
   "language": "python",
   "name": "python3"
  },
  "language_info": {
   "codemirror_mode": {
    "name": "ipython",
    "version": 3
   },
   "file_extension": ".py",
   "mimetype": "text/x-python",
   "name": "python",
   "nbconvert_exporter": "python",
   "pygments_lexer": "ipython3",
   "version": "3.10.12"
  }
 },
 "nbformat": 4,
 "nbformat_minor": 2
}
