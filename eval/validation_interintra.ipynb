{
 "cells": [
  {
   "cell_type": "markdown",
   "metadata": {},
   "source": [
    "# Validate Accuracy Scores"
   ]
  },
  {
   "cell_type": "code",
   "execution_count": null,
   "metadata": {},
   "outputs": [],
   "source": [
    "import os\n",
    "import pandas as pd\n",
    "from sklearn.metrics import root_mean_squared_error, r2_score\n",
    "from scipy import stats\n",
    "import seaborn as sns\n",
    "import numpy as np\n",
    "import matplotlib.pyplot as plt"
   ]
  },
  {
   "cell_type": "code",
   "execution_count": null,
   "metadata": {},
   "outputs": [],
   "source": [
    "inputDict = {\n",
    "    'JASMIN-NL':'/vol/tensusers2/wharmsen/JASMIN-fluency-features/comp-q-read_nl_age7-11_nat',\n",
    "    'JASMIN-VL':'/vol/tensusers2/wharmsen/JASMIN-fluency-features/comp-q-read_vl_age7-11_nat',\n",
    "    'SERDA-NL':'/vol/tensusers2/wharmsen/SERDA-fluency-features/comp1'\n",
    "}\n",
    "\n",
    "corrDF_list = []\n",
    "combiDF_list = []\n",
    "for corpus, basepath in inputDict.items():\n",
    "    print(corpus)\n",
    "\n",
    "    manFile_inter = os.path.join(basepath,'06_manual_fluency_features/json-fluency-features/inter_timing.tsv')\n",
    "    manDF_inter = pd.read_csv(manFile_inter, sep = '\\t', index_col=0).sort_index()\n",
    "    manFile_intra = os.path.join(basepath,'06_manual_fluency_features/json-fluency-features/intra_timing.tsv')\n",
    "    manDF_intra = pd.read_csv(manFile_intra, sep = '\\t', index_col=0).sort_index()\n",
    "    manDF = pd.concat([manDF_inter, manDF_intra], axis=1)\n",
    "\n",
    "    accVars = list(manDF.columns)\n",
    "    accVars.remove('other') if 'other' in list(manDF.columns) else list(manDF.columns)\n",
    "    print('accVars: ', accVars)   \n",
    "\n",
    "    asrSystem = 'whispert_vad_dis'\n",
    "    autoFile_inter = os.path.join(basepath,'05_automatic_fluency_features/' + asrSystem + '/inter_timing.tsv')\n",
    "    autoDF_inter = pd.read_csv(autoFile_inter, sep = '\\t', index_col=0).sort_index()\n",
    "    autoFile_intra = os.path.join(basepath,'05_automatic_fluency_features/' + asrSystem + '/intra_timing.tsv')\n",
    "    autoDF_intra = pd.read_csv(autoFile_intra, sep = '\\t', index_col=0).sort_index()\n",
    "    autoDF = pd.concat([autoDF_inter, autoDF_intra], axis=1)\n",
    "    autoDF.columns = [asrSystem + '_' + x for x in autoDF.columns]\n",
    "\n",
    "    combiDF = pd.concat([autoDF, manDF], axis=1)\n",
    "    combiDF['corpus'] = [corpus] * len(combiDF)\n",
    "    # combiDF = combiDF.dropna()\n",
    "    print('Length combiDF:', len(combiDF))\n",
    "    combiDF_list.append(combiDF)\n",
    "\n",
    "# outputCorrDF = pd.concat(corrDF_list, axis=1)\n",
    "combiDF_final = pd.concat(combiDF_list)\n"
   ]
  },
  {
   "cell_type": "code",
   "execution_count": null,
   "metadata": {},
   "outputs": [],
   "source": [
    "asrSystem = 'whispert_vad_dis'\n",
    "corrDF_list = []\n",
    "\n",
    "for corpus in ['total', 'JASMIN-NL', 'JASMIN-VL', 'SERDA-NL']:\n",
    "    outputList = []\n",
    "\n",
    "    if corpus != 'total':\n",
    "        selDF = combiDF_final[combiDF_final['corpus'] == corpus]\n",
    "    else:\n",
    "        selDF = combiDF_final\n",
    "    print(corpus, len(selDF))\n",
    "\n",
    "    for accVar in accVars:\n",
    "        # Select only the automatic and manual variable\n",
    "        autoVar = asrSystem + '_' + accVar\n",
    "        manVar = accVar\n",
    "        varDF = selDF.loc[:, [autoVar, manVar]].replace(0, np.nan, inplace=False).dropna()\n",
    "        length = len(varDF)\n",
    "        corr = stats.pearsonr(varDF[asrSystem + '_' + accVar], varDF[accVar])[0]\n",
    "        outputList.append([accVar, length, corr])\n",
    "\n",
    "    corrDF = pd.DataFrame(outputList, columns = ['var', 'N', corpus]).set_index('var')\n",
    "    print(len(corrDF))\n",
    "    corrDF_list.append(corrDF)\n",
    "\n",
    "outputCorrDF = pd.concat(corrDF_list, axis=1)\n",
    "outputCorrDF"
   ]
  },
  {
   "cell_type": "code",
   "execution_count": null,
   "metadata": {},
   "outputs": [],
   "source": [
    "outputCorrDF"
   ]
  },
  {
   "cell_type": "code",
   "execution_count": null,
   "metadata": {},
   "outputs": [],
   "source": []
  }
 ],
 "metadata": {
  "kernelspec": {
   "display_name": "virenv-wav2vec2",
   "language": "python",
   "name": "virenv-wav2vec2"
  },
  "language_info": {
   "codemirror_mode": {
    "name": "ipython",
    "version": 3
   },
   "file_extension": ".py",
   "mimetype": "text/x-python",
   "name": "python",
   "nbconvert_exporter": "python",
   "pygments_lexer": "ipython3",
   "version": "3.8.10"
  }
 },
 "nbformat": 4,
 "nbformat_minor": 2
}
